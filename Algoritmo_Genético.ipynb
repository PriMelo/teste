{
  "cells": [
    {
      "cell_type": "markdown",
      "metadata": {
        "id": "ZGh5JWXy7JM_"
      },
      "source": [
        "Aluna: Priscila Graziela Melo Martins"
      ]
    },
    {
      "cell_type": "code",
      "execution_count": 19,
      "metadata": {
        "id": "UH4EoxokP1oM"
      },
      "outputs": [],
      "source": [
        "import numpy as np\n",
        "import random"
      ]
    },
    {
      "cell_type": "code",
      "execution_count": 20,
      "metadata": {
        "id": "cNgiNg-_d7nH"
      },
      "outputs": [],
      "source": [
        "npop = 100  # tamanho da população\n",
        "nger = 50 # número de gerações\n",
        "ndim = 3 # número de dimensões\n",
        "nprecisao = 6 # precisão\n",
        "nalelos = ndim * nprecisao #número de alenos no indivíduo\n",
        "pc = 1.0  # probabilidade de cruzamento\n",
        "pm = 0.10  # probabilidade de mutação"
      ]
    },
    {
      "cell_type": "code",
      "execution_count": 21,
      "metadata": {
        "id": "fgwoEil7hygC"
      },
      "outputs": [],
      "source": [
        "# A função gera vpop que é o vetor com os npop indivíduos de nalelos bits\n",
        "def gerar_vetor_binarios(npop, nalelos):\n",
        "    vpop = []\n",
        "    for _ in range(npop):\n",
        "        numero = random.randint(0, 2**nalelos - 1)  # Gera um número inteiro aleatório com até nalelos bits\n",
        "        binario = bin(numero)[2:].zfill(nalelos)    # Converte o número para binário e preenche com zeros à esquerda\n",
        "        vpop.append(binario)\n",
        "    return vpop"
      ]
    },
    {
      "cell_type": "code",
      "execution_count": 22,
      "metadata": {
        "id": "nuj4v49lvNY0"
      },
      "outputs": [],
      "source": [
        "# A função dividi cada indivíduo em partes de tamanho nprecisao gerando o genes_ind. genes_ind é ma lista contendo os genes do indivíduo.\n",
        "def dividir_em_genes(individuo, nprecisao):\n",
        "    genes_ind = []\n",
        "    for i in range(0, len(individuo), nprecisao ):\n",
        "        gene = individuo[i:i+nprecisao]\n",
        "        genes_ind.append(gene)\n",
        "    return genes_ind"
      ]
    },
    {
      "cell_type": "code",
      "execution_count": 23,
      "metadata": {
        "id": "BCXVmQ7U3eKe"
      },
      "outputs": [],
      "source": [
        "# A função que converte os genes binários em inteiros.\n",
        "def binario_para_inteiro(genes_ind):\n",
        "    inteiros_gene = []\n",
        "    for gene in genes_ind:\n",
        "        inteiro = int(gene, 2)\n",
        "        inteiros_gene.append(inteiro)\n",
        "    return inteiros_gene"
      ]
    },
    {
      "cell_type": "code",
      "execution_count": 24,
      "metadata": {
        "id": "zOxEtgwZVGGm"
      },
      "outputs": [],
      "source": [
        "# A função discretiza os inteiros_gene no intervalo de xmin a xmax tendo 2**nprecisao posibilidades de valores.\n",
        "def discretizacao(inteiros_gene, nprecisao):\n",
        "    xmin = -2\n",
        "    xmax = 2\n",
        "    discrets_gene =[]\n",
        "    for inteiro in inteiros_gene:\n",
        "        x = xmin + ((xmax-xmin)/((2**nprecisao) -1)*inteiro) # Fórmula para converter o número inteiro para um valor discretizado\n",
        "        discrets_gene.append(x)\n",
        "    return discrets_gene"
      ]
    },
    {
      "cell_type": "code",
      "execution_count": 25,
      "metadata": {
        "id": "mmx1Fm2bJS0L"
      },
      "outputs": [],
      "source": [
        "# A função calcula o valor da função objetivo para um vetor x de dimensão n. x é o indivíduo dividido em genes discretizados.\n",
        "def funcao_objetivo(x, n):\n",
        "    soma1 = sum(xi ** 2 for xi in x)\n",
        "    soma2 = sum(np.cos(2 * np.pi * xi) for xi in x)\n",
        "    resultado = -20 * np.exp(-0.2 * np.sqrt(1/n * soma1)) - np.exp(1/n * soma2) + 20 + np.e\n",
        "    return resultado"
      ]
    },
    {
      "cell_type": "code",
      "execution_count": 26,
      "metadata": {
        "id": "T_ElKxUEBxct"
      },
      "outputs": [],
      "source": [
        "# A função implementa o método de seleção por torneio. pop é a lista de indivíduos da população, vfitness á a lista contendo\n",
        "# os valores de fitness correspondentes a cada indivíduo na população e nselecionados é o número de indivíduos a serem selecionados em cada torneio.\n",
        "# Essa função retorna vpais que é uma lista contendo os indivíduos selecionados como pais após os torneios.\n",
        "def torneio(pop, vfitness, nselecionados):\n",
        "  vpais = []\n",
        "  for i in range(len(pop)):\n",
        "      indices = random.sample(range(len(pop)), nselecionados)  # Seleciona aleatoriamente nselecionados números sem substituição.\n",
        "      menor_valor_fitness = float('inf')  # Inicializa o menor valor de fit com infinito positivo\n",
        "      melhor_indice = None\n",
        "      for indice in indices:\n",
        "          if vfitness[indice] < menor_valor_fitness:\n",
        "              menor_valor_fitness = vfitness[indice]  # Atualiza o menor valor de fitness encontrado\n",
        "              melhor_indice = indice  # Atualiza o índice do melhor indivíduo encontrado\n",
        "      pais = pop[melhor_indice] # Obtém o indivíduo correspondente ao melhor índice encontrado\n",
        "      vpais.append(pais)\n",
        "  return vpais"
      ]
    },
    {
      "cell_type": "code",
      "execution_count": 27,
      "metadata": {
        "id": "WPKCy1KdPOJj"
      },
      "outputs": [],
      "source": [
        "# A função realiza o cruzamento em uma lista de população de indivíduos (vpais) e retorna uma lista contendo os filhos (vfilhos)\n",
        "#resultantes do cruzamento. A partir do ponto de corte, dois pais se misturam (trocam a porção de alelos) para formar dois filhos.\n",
        "def cruzamento(vpais):\n",
        "  vfilhos =[]\n",
        "  for i in range(0, len(vpais), 2 ):\n",
        "      divisao = random.randint (1, nalelos-1)  # Seleciona aleatoriamente um ponto de corte para realizar o cruzamento\n",
        "      filho1 = vpais[i][:divisao] + vpais[i+1][divisao:]\n",
        "      filho2 = vpais[i+1][:divisao] + vpais[i][divisao:]\n",
        "      vfilhos.append(filho1)\n",
        "      vfilhos.append(filho2)\n",
        "  return vfilhos"
      ]
    },
    {
      "cell_type": "code",
      "execution_count": 28,
      "metadata": {
        "id": "SRb_UD79DCB_"
      },
      "outputs": [],
      "source": [
        "# A função realiza a mutação em uma população de indivíduos (vfilhos) e retorna a nova população após a aplicação da mutação.\n",
        "def mutacao(vfilhos):\n",
        "    nova_vfilhos = []\n",
        "    for individuo in vfilhos:\n",
        "        novo_individuo = ''\n",
        "        for bit in individuo:\n",
        "            valor_aleatorio = random.random() # Gera um valor aleatório entre 0 e 1\n",
        "            if valor_aleatorio <= pm: # Verifica se o valor aleatório está abaixo ou igual à probabilidade de mutação (pm)\n",
        "                novo_bit = '0' if bit == '1' else '1' # Se sim, realiza a mutação trocando o bit para 0 se for 1, e vice-versa\n",
        "            else:\n",
        "                novo_bit = bit # Se não, mantém o bit inalterado\n",
        "            novo_individuo += novo_bit\n",
        "        nova_vfilhos.append(novo_individuo)\n",
        "    return nova_vfilhos"
      ]
    },
    {
      "cell_type": "code",
      "execution_count": 29,
      "metadata": {
        "id": "mlWByO3CSqLi"
      },
      "outputs": [],
      "source": [
        "# A função implementa uma estratégia de elitismo na qual o indivíduo com melhor fitness é selecionada para a próxima geração.\n",
        "def elitismo (vfitness, pop, nova_vfilhos):\n",
        "    menor_valor_fitness = min(vfitness)  # Encontra o menor valor de fitness na população atual\n",
        "    indice_menor_valor = vfitness.index(min(vfitness))  # Encontra o índice do menor valor de aptidão\n",
        "    indice = random.randint (0,len(pop)-1) # Escolhe aleatoriamente um índice\n",
        "    nova_vfilhos[indice]  = pop[indice_menor_valor] # Substitui o indivíduo no índice escolhido da nova população pelo melhor indivíduo da geração anterior\n",
        "    return nova_vfilhos"
      ]
    },
    {
      "cell_type": "code",
      "execution_count": 39,
      "metadata": {
        "colab": {
          "base_uri": "https://localhost:8080/"
        },
        "id": "lw0ZJvdtlfgM",
        "outputId": "b886a24e-9cfa-49f4-e6e0-fe5ddb737af4"
      },
      "outputs": [
        {
          "output_type": "stream",
          "name": "stdout",
          "text": [
            "Fitness= 2.484443653233136 para a geração 0\n",
            "Fitness= 2.16977440811062 para a geração 1\n",
            "Fitness= 1.5829805179452703 para a geração 2\n",
            "Fitness= 0.7924345005622908 para a geração 3\n",
            "Fitness= 0.7924345005622908 para a geração 4\n",
            "Fitness= 0.7924345005622908 para a geração 5\n",
            "Fitness= 0.42834112128815294 para a geração 6\n",
            "Fitness= 0.42834112128815294 para a geração 7\n",
            "Fitness= 0.42834112128815294 para a geração 8\n",
            "Fitness= 0.42834112128815294 para a geração 9\n",
            "Fitness= 0.42834112128815294 para a geração 10\n",
            "Fitness= 0.42834112128815294 para a geração 11\n",
            "Fitness= 0.42834112128815294 para a geração 12\n",
            "Fitness= 0.42834112128815294 para a geração 13\n",
            "Fitness= 0.42834112128815294 para a geração 14\n",
            "Fitness= 0.42834112128815294 para a geração 15\n",
            "Fitness= 0.42834112128815294 para a geração 16\n",
            "Fitness= 0.42834112128815294 para a geração 17\n",
            "Fitness= 0.42834112128815294 para a geração 18\n",
            "Fitness= 0.42834112128815294 para a geração 19\n",
            "Fitness= 0.42834112128815294 para a geração 20\n",
            "Fitness= 0.42834112128815294 para a geração 21\n",
            "Fitness= 0.42834112128815294 para a geração 22\n",
            "Fitness= 0.42834112128815294 para a geração 23\n",
            "Fitness= 0.42834112128815294 para a geração 24\n",
            "Fitness= 0.42834112128815294 para a geração 25\n",
            "Fitness= 0.42834112128815294 para a geração 26\n",
            "Fitness= 0.42834112128815294 para a geração 27\n",
            "Fitness= 0.42834112128815294 para a geração 28\n",
            "Fitness= 0.42834112128815294 para a geração 29\n",
            "Fitness= 0.1799478151580023 para a geração 30\n",
            "Fitness= 0.1799478151580023 para a geração 31\n",
            "Fitness= 0.1799478151580023 para a geração 32\n",
            "Fitness= 0.1799478151580023 para a geração 33\n",
            "Fitness= 0.1799478151580023 para a geração 34\n",
            "Fitness= 0.1799478151580023 para a geração 35\n",
            "Fitness= 0.1799478151580023 para a geração 36\n",
            "Fitness= 0.1799478151580023 para a geração 37\n",
            "Fitness= 0.1799478151580023 para a geração 38\n",
            "Fitness= 0.1799478151580023 para a geração 39\n",
            "Fitness= 0.1799478151580023 para a geração 40\n",
            "Fitness= 0.1799478151580023 para a geração 41\n",
            "Fitness= 0.1799478151580023 para a geração 42\n",
            "Fitness= 0.1799478151580023 para a geração 43\n",
            "Fitness= 0.1799478151580023 para a geração 44\n",
            "Fitness= 0.1799478151580023 para a geração 45\n",
            "Fitness= 0.1799478151580023 para a geração 46\n",
            "Fitness= 0.1799478151580023 para a geração 47\n",
            "Fitness= 0.1799478151580023 para a geração 48\n",
            "Fitness= 0.1799478151580023 para a geração 49\n"
          ]
        }
      ],
      "source": [
        "# Código executa um loop que representa uma única execução do algoritmo genético. A cada iteração do loop, uma nova geração é criada e avaliada,\n",
        "# e o processo é repetido até que o número máximo de gerações seja atingido.\n",
        "pop = gerar_vetor_binarios(npop, nalelos)[:]  # ou .copy\n",
        "vfitness_geracao =[]\n",
        "ntorneio = 3\n",
        "i = 0\n",
        "while i < nger:\n",
        "    vfitness = []\n",
        "    for individuo in pop:\n",
        "        gene_ind = dividir_em_genes(individuo, nprecisao)\n",
        "        int_gene = binario_para_inteiro(gene_ind)\n",
        "        dis_gene = discretizacao(int_gene, nprecisao)\n",
        "        fobj = funcao_objetivo(dis_gene, ndim)\n",
        "        vfitness.append(fobj)\n",
        "    vpais = torneio(pop, vfitness, ntorneio)\n",
        "    vfilhos = cruzamento(vpais)\n",
        "    vfilhos_new = mutacao(vfilhos)\n",
        "    pop  = elitismo (vfitness, pop, vfilhos_new)\n",
        "    valor_fitness = min(vfitness)\n",
        "    vfitness_geracao.append(valor_fitness)\n",
        "    print(\"Fitness=\", valor_fitness, \"para a geração\", i)\n",
        "    i += 1"
      ]
    },
    {
      "cell_type": "code",
      "source": [
        "import matplotlib.pyplot as plt\n",
        "\n",
        "plt.plot(range(len(vfitness_geracao)), vfitness_geracao, marker='o', linestyle='-')\n",
        "plt.title('Gráfico de Fitness por Geração')\n",
        "plt.xlabel('Geração')\n",
        "plt.ylabel('Fitness')\n",
        "plt.grid(True)\n",
        "plt.show()"
      ],
      "metadata": {
        "colab": {
          "base_uri": "https://localhost:8080/",
          "height": 472
        },
        "id": "IuV_48JwPFaL",
        "outputId": "84fe5bc4-e522-44d9-b7d5-ffd755555002"
      },
      "execution_count": 40,
      "outputs": [
        {
          "output_type": "display_data",
          "data": {
            "text/plain": [
              "<Figure size 640x480 with 1 Axes>"
            ],
            "image/png": "[encoded data removed]"
          },
          "metadata": {}
        }
      ]
    },
    {
      "cell_type": "code",
      "source": [],
      "metadata": {
        "colab": {
          "base_uri": "https://localhost:8080/",
          "height": 472
        },
        "id": "OOBMnWi1O_EX",
        "outputId": "402e43d3-440f-44c6-f77a-36599ee2a56d"
      },
      "execution_count": 35,
      "outputs": [
        {
          "output_type": "display_data",
          "data": {
            "text/plain": [
              "<Figure size 640x480 with 1 Axes>"
            ],
            "image/png": "[encoded data removed]"
          },
          "metadata": {}
        }
      ]
    }
  ],
  "metadata": {
    "colab": {
      "provenance": []
    },
    "kernelspec": {
      "display_name": "Python 3",
      "name": "python3"
    },
    "language_info": {
      "name": "python"
    }
  },
  "nbformat": 4,
  "nbformat_minor": 0
}